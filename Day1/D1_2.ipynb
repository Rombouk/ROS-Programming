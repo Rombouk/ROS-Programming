{
 "cells": [
  {
   "cell_type": "markdown",
   "metadata": {},
   "source": [
    "# Functions, Classes and Objects"
   ]
  },
  {
   "cell_type": "code",
   "execution_count": 15,
   "metadata": {},
   "outputs": [],
   "source": [
    "# a is the name of my friend\n",
    "def printer(a):\n",
    "    print(a + \" is my friend.\")"
   ]
  },
  {
   "cell_type": "code",
   "execution_count": 18,
   "metadata": {},
   "outputs": [
    {
     "name": "stdout",
     "output_type": "stream",
     "text": [
      "Evgeni is my friend.\n"
     ]
    }
   ],
   "source": [
    "printer(\"Evgeni\")"
   ]
  },
  {
   "cell_type": "code",
   "execution_count": 19,
   "metadata": {},
   "outputs": [],
   "source": [
    "import math"
   ]
  },
  {
   "cell_type": "code",
   "execution_count": 20,
   "metadata": {},
   "outputs": [],
   "source": [
    "def combo(a, b, x):\n",
    "    y = a*math.cos(x) + b*math.sin(x)\n",
    "    return y"
   ]
  },
  {
   "cell_type": "code",
   "execution_count": 22,
   "metadata": {},
   "outputs": [
    {
     "name": "stdout",
     "output_type": "stream",
     "text": [
      "-2.4019081396458786\n"
     ]
    }
   ],
   "source": [
    "y = combo(2.4, -1.2, 3.14)\n",
    "print(y)"
   ]
  },
  {
   "cell_type": "markdown",
   "metadata": {},
   "source": [
    "OOP = Object Oriented Programming"
   ]
  },
  {
   "cell_type": "code",
   "execution_count": 36,
   "metadata": {},
   "outputs": [],
   "source": [
    "class Friend:\n",
    "    \n",
    "    def __init__(self, name, age, likable = 5): #likable, mi=0, max=10\n",
    "        self.name = name\n",
    "        self.age = age\n",
    "        self.likable = likable\n",
    "        \n",
    "    def show(self):\n",
    "        print(self.name + \" is \" + str(self.age) + \n",
    "              \" years old. Likability score is \" + \n",
    "              str(self.likable) + \" out of 10\")\n",
    "    \n",
    "    def set_likability(self, x):\n",
    "        self.likable = x"
   ]
  },
  {
   "cell_type": "code",
   "execution_count": 37,
   "metadata": {},
   "outputs": [],
   "source": [
    "friend1 = Friend(\"Sophie\", 35, 8)"
   ]
  },
  {
   "cell_type": "code",
   "execution_count": 38,
   "metadata": {},
   "outputs": [
    {
     "name": "stdout",
     "output_type": "stream",
     "text": [
      "Sophie is 35 years old. Likability score is 8 out of 10\n"
     ]
    }
   ],
   "source": [
    "friend1.show()"
   ]
  },
  {
   "cell_type": "code",
   "execution_count": 39,
   "metadata": {},
   "outputs": [],
   "source": [
    "friend1.set_likability(2)"
   ]
  },
  {
   "cell_type": "code",
   "execution_count": 40,
   "metadata": {},
   "outputs": [
    {
     "name": "stdout",
     "output_type": "stream",
     "text": [
      "Sophie is 35 years old. Likability score is 2 out of 10\n"
     ]
    }
   ],
   "source": [
    "friend1.show()"
   ]
  },
  {
   "cell_type": "code",
   "execution_count": null,
   "metadata": {},
   "outputs": [],
   "source": []
  }
 ],
 "metadata": {
  "kernelspec": {
   "display_name": "Python 3",
   "language": "python",
   "name": "python3"
  },
  "language_info": {
   "codemirror_mode": {
    "name": "ipython",
    "version": 3
   },
   "file_extension": ".py",
   "mimetype": "text/x-python",
   "name": "python",
   "nbconvert_exporter": "python",
   "pygments_lexer": "ipython3",
   "version": "3.8.1"
  }
 },
 "nbformat": 4,
 "nbformat_minor": 2
}
