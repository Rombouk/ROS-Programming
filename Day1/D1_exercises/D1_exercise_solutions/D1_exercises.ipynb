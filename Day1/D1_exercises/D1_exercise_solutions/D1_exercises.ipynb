{
 "cells": [
  {
   "cell_type": "markdown",
   "metadata": {},
   "source": [
    "# Exercise 1"
   ]
  },
  {
   "cell_type": "markdown",
   "metadata": {},
   "source": [
    "Assemble a dictionary which contains the names and the ages of six friends (you can make them up). Write a piece of code which will prompt an user to enter a name and return the age."
   ]
  },
  {
   "cell_type": "code",
   "execution_count": 1,
   "metadata": {},
   "outputs": [],
   "source": [
    "friends = {'Steve': 39, 'Benoit': 44, 'Jackie': 72, 'Fred': 76, 'Crista': 52, 'Jordan': 23}"
   ]
  },
  {
   "cell_type": "code",
   "execution_count": 2,
   "metadata": {},
   "outputs": [
    {
     "name": "stdout",
     "output_type": "stream",
     "text": [
      "The name of my friend is Steve\n"
     ]
    }
   ],
   "source": [
    "friend = input('The name of my friend is ')"
   ]
  },
  {
   "cell_type": "code",
   "execution_count": 3,
   "metadata": {},
   "outputs": [
    {
     "name": "stdout",
     "output_type": "stream",
     "text": [
      "My friend Steve is 39 years old.\n"
     ]
    }
   ],
   "source": [
    "print('My friend ' + friend + ' is {}'.format(friends[friend]) + ' years old.')"
   ]
  },
  {
   "cell_type": "markdown",
   "metadata": {},
   "source": [
    "# Exercise 2"
   ]
  },
  {
   "cell_type": "markdown",
   "metadata": {},
   "source": [
    "Create a loop that computes and prints the first 25 Fibonacci numbers. The first two are: F(0) = 0, F(1) = 1. The recurrence relation is F(n) = F(n-1) + F(n-2)."
   ]
  },
  {
   "cell_type": "code",
   "execution_count": 4,
   "metadata": {},
   "outputs": [],
   "source": [
    "fibo = []"
   ]
  },
  {
   "cell_type": "code",
   "execution_count": 5,
   "metadata": {},
   "outputs": [],
   "source": [
    "for i in range(25):\n",
    "    if i == 0:\n",
    "        fibo.append(0)\n",
    "    elif i == 1:\n",
    "        fibo.append(1)\n",
    "    else:\n",
    "        fibo.append(fibo[i-1] + fibo[i-2])"
   ]
  },
  {
   "cell_type": "code",
   "execution_count": 6,
   "metadata": {},
   "outputs": [
    {
     "name": "stdout",
     "output_type": "stream",
     "text": [
      "[0, 1, 1, 2, 3, 5, 8, 13, 21, 34, 55, 89, 144, 233, 377, 610, 987, 1597, 2584, 4181, 6765, 10946, 17711, 28657, 46368]\n"
     ]
    }
   ],
   "source": [
    "print(fibo)"
   ]
  },
  {
   "cell_type": "markdown",
   "metadata": {},
   "source": [
    "# Exercise 3"
   ]
  },
  {
   "cell_type": "markdown",
   "metadata": {},
   "source": [
    "Create a loop which computes and prints all the Fibonacci numbers smaller that 1024."
   ]
  },
  {
   "cell_type": "code",
   "execution_count": 7,
   "metadata": {},
   "outputs": [],
   "source": [
    "small_fibo = [0]\n",
    "size = 1\n",
    "limit = 1024"
   ]
  },
  {
   "cell_type": "code",
   "execution_count": 8,
   "metadata": {},
   "outputs": [],
   "source": [
    "while size < limit:\n",
    "    small_fibo.append(size)\n",
    "    size = small_fibo[-1] + small_fibo[-2]"
   ]
  },
  {
   "cell_type": "code",
   "execution_count": 9,
   "metadata": {},
   "outputs": [
    {
     "name": "stdout",
     "output_type": "stream",
     "text": [
      "[0, 1, 1, 2, 3, 5, 8, 13, 21, 34, 55, 89, 144, 233, 377, 610, 987]\n"
     ]
    }
   ],
   "source": [
    "print(small_fibo)"
   ]
  },
  {
   "cell_type": "markdown",
   "metadata": {},
   "source": [
    "# Exercise 4"
   ]
  },
  {
   "cell_type": "markdown",
   "metadata": {},
   "source": [
    "Create a class called Country whcih has attibutes for GDP per capita, average life expectancy and Gini coefficient. Create methods to set the values of these three attributes. Create a method that computes and prints \"Quality of life\" variable defined as:\n",
    "Quality of life = GDP/10000 + Life Epectancy/10 - 5*Gini"
   ]
  },
  {
   "cell_type": "markdown",
   "metadata": {},
   "source": [
    "Next create an object of this class with realistic values for the attributes and make sure that the method computing and printing the quality of life index works properly."
   ]
  },
  {
   "cell_type": "code",
   "execution_count": 10,
   "metadata": {},
   "outputs": [],
   "source": [
    "class Country:\n",
    "    \n",
    "    def __init__(self, name, GDP, life_expect, Gini):\n",
    "        self.name = name\n",
    "        self.GDP = GDP\n",
    "        self.life_expect = life_expect\n",
    "        self.Gini = Gini\n",
    "        \n",
    "    def set_GDP(self, x):\n",
    "        self.GDP = x\n",
    "    \n",
    "    def set_life_expect(self, x):\n",
    "        self.life_expect = x\n",
    "        \n",
    "    def set_Gini(self, x):\n",
    "        self.Gini = x\n",
    "        \n",
    "    def quality_of_life(self):\n",
    "        qol = self.GDP/10000 + self.life_expect/10 - 5*self.Gini\n",
    "        print(\"In \" + str(self.name) + ' the quality of life has an index of {}'.format(qol))"
   ]
  },
  {
   "cell_type": "code",
   "execution_count": 11,
   "metadata": {},
   "outputs": [],
   "source": [
    "patagonia = Country(\"Patagonia\", 51341, 73, 0.6)"
   ]
  },
  {
   "cell_type": "code",
   "execution_count": 12,
   "metadata": {},
   "outputs": [
    {
     "name": "stdout",
     "output_type": "stream",
     "text": [
      "In Patagonia the quality of life has an index of 9.4341\n"
     ]
    }
   ],
   "source": [
    "patagonia.quality_of_life()"
   ]
  },
  {
   "cell_type": "markdown",
   "metadata": {},
   "source": [
    "# Exercise 5"
   ]
  },
  {
   "cell_type": "markdown",
   "metadata": {},
   "source": [
    "Create a Python module D1_ex5.py which defines a class called Circle. Circle should have an attribute called radius, methods for computing the area and perimeter of a circle as well as a method for rescaling the circle.\n",
    "Make sure that your Circle class works properly by importing it, creating an object of this class and showing that it has the requisite functionality."
   ]
  },
  {
   "cell_type": "markdown",
   "metadata": {},
   "source": [
    "# Exercise 6"
   ]
  },
  {
   "cell_type": "markdown",
   "metadata": {},
   "source": [
    "Modify the code in the module D1_4.py so that it also returns shape, area and perimeters of circles when called from the command line with the argument Circle."
   ]
  },
  {
   "cell_type": "code",
   "execution_count": null,
   "metadata": {},
   "outputs": [],
   "source": []
  }
 ],
 "metadata": {
  "kernelspec": {
   "display_name": "Python 3",
   "language": "python",
   "name": "python3"
  },
  "language_info": {
   "codemirror_mode": {
    "name": "ipython",
    "version": 3
   },
   "file_extension": ".py",
   "mimetype": "text/x-python",
   "name": "python",
   "nbconvert_exporter": "python",
   "pygments_lexer": "ipython3",
   "version": "3.5.2"
  }
 },
 "nbformat": 4,
 "nbformat_minor": 2
}
